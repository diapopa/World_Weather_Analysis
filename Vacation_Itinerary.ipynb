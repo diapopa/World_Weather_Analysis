{
 "cells": [
  {
   "cell_type": "code",
   "execution_count": 1,
   "metadata": {},
   "outputs": [],
   "source": [
    "# Dependencies\n",
    "import pandas as pd\n",
    "import gmaps\n",
    "import gmaps.datasets\n",
    "# Import the API key.\n",
    "from config import g_key"
   ]
  },
  {
   "cell_type": "code",
   "execution_count": 2,
   "metadata": {},
   "outputs": [
    {
     "data": {
      "text/html": [
       "<div>\n",
       "<style scoped>\n",
       "    .dataframe tbody tr th:only-of-type {\n",
       "        vertical-align: middle;\n",
       "    }\n",
       "\n",
       "    .dataframe tbody tr th {\n",
       "        vertical-align: top;\n",
       "    }\n",
       "\n",
       "    .dataframe thead th {\n",
       "        text-align: right;\n",
       "    }\n",
       "</style>\n",
       "<table border=\"1\" class=\"dataframe\">\n",
       "  <thead>\n",
       "    <tr style=\"text-align: right;\">\n",
       "      <th></th>\n",
       "      <th>City</th>\n",
       "      <th>Country</th>\n",
       "      <th>Max Temp</th>\n",
       "      <th>Current description</th>\n",
       "      <th>Lat</th>\n",
       "      <th>Lng</th>\n",
       "      <th>Hotel Name</th>\n",
       "    </tr>\n",
       "  </thead>\n",
       "  <tbody>\n",
       "    <tr>\n",
       "      <th>7</th>\n",
       "      <td>Butaritari</td>\n",
       "      <td>KI</td>\n",
       "      <td>79.29</td>\n",
       "      <td>overcast clouds</td>\n",
       "      <td>3.07</td>\n",
       "      <td>172.79</td>\n",
       "      <td>Isles Sunset Lodge</td>\n",
       "    </tr>\n",
       "    <tr>\n",
       "      <th>10</th>\n",
       "      <td>Poum</td>\n",
       "      <td>NC</td>\n",
       "      <td>75.49</td>\n",
       "      <td>light rain</td>\n",
       "      <td>-20.23</td>\n",
       "      <td>164.02</td>\n",
       "      <td>Gîte kajeon</td>\n",
       "    </tr>\n",
       "    <tr>\n",
       "      <th>22</th>\n",
       "      <td>Caravelas</td>\n",
       "      <td>BR</td>\n",
       "      <td>77.23</td>\n",
       "      <td>scattered clouds</td>\n",
       "      <td>-17.71</td>\n",
       "      <td>-39.25</td>\n",
       "      <td>Pousada dos Navegantes</td>\n",
       "    </tr>\n",
       "    <tr>\n",
       "      <th>23</th>\n",
       "      <td>Saint George</td>\n",
       "      <td>US</td>\n",
       "      <td>95.00</td>\n",
       "      <td>clear sky</td>\n",
       "      <td>37.10</td>\n",
       "      <td>-113.58</td>\n",
       "      <td>Best Western Plus Abbey Inn</td>\n",
       "    </tr>\n",
       "    <tr>\n",
       "      <th>26</th>\n",
       "      <td>Teahupoo</td>\n",
       "      <td>PF</td>\n",
       "      <td>78.01</td>\n",
       "      <td>few clouds</td>\n",
       "      <td>-17.83</td>\n",
       "      <td>-149.27</td>\n",
       "      <td>Vanira Lodge</td>\n",
       "    </tr>\n",
       "    <tr>\n",
       "      <th>...</th>\n",
       "      <td>...</td>\n",
       "      <td>...</td>\n",
       "      <td>...</td>\n",
       "      <td>...</td>\n",
       "      <td>...</td>\n",
       "      <td>...</td>\n",
       "      <td>...</td>\n",
       "    </tr>\n",
       "    <tr>\n",
       "      <th>552</th>\n",
       "      <td>Caranavi</td>\n",
       "      <td>BO</td>\n",
       "      <td>80.22</td>\n",
       "      <td>overcast clouds</td>\n",
       "      <td>-15.82</td>\n",
       "      <td>-67.55</td>\n",
       "      <td>Hotel Landivar</td>\n",
       "    </tr>\n",
       "    <tr>\n",
       "      <th>555</th>\n",
       "      <td>Grants</td>\n",
       "      <td>US</td>\n",
       "      <td>84.20</td>\n",
       "      <td>clear sky</td>\n",
       "      <td>35.15</td>\n",
       "      <td>-107.85</td>\n",
       "      <td>Motel 6 Grants, NM</td>\n",
       "    </tr>\n",
       "    <tr>\n",
       "      <th>565</th>\n",
       "      <td>Lamar</td>\n",
       "      <td>US</td>\n",
       "      <td>82.99</td>\n",
       "      <td>clear sky</td>\n",
       "      <td>33.67</td>\n",
       "      <td>-95.58</td>\n",
       "      <td>Kings Inn Paris TX</td>\n",
       "    </tr>\n",
       "    <tr>\n",
       "      <th>570</th>\n",
       "      <td>Ambajogai</td>\n",
       "      <td>IN</td>\n",
       "      <td>91.42</td>\n",
       "      <td>scattered clouds</td>\n",
       "      <td>18.73</td>\n",
       "      <td>76.38</td>\n",
       "      <td>Hotel Krushnai</td>\n",
       "    </tr>\n",
       "    <tr>\n",
       "      <th>572</th>\n",
       "      <td>Ixtapa</td>\n",
       "      <td>MX</td>\n",
       "      <td>81.00</td>\n",
       "      <td>overcast clouds</td>\n",
       "      <td>20.70</td>\n",
       "      <td>-105.20</td>\n",
       "      <td>Container Inn Puerto Vallarta</td>\n",
       "    </tr>\n",
       "  </tbody>\n",
       "</table>\n",
       "<p>196 rows × 7 columns</p>\n",
       "</div>"
      ],
      "text/plain": [
       "             City Country  Max Temp Current description    Lat     Lng  \\\n",
       "7      Butaritari      KI     79.29     overcast clouds   3.07  172.79   \n",
       "10           Poum      NC     75.49          light rain -20.23  164.02   \n",
       "22      Caravelas      BR     77.23    scattered clouds -17.71  -39.25   \n",
       "23   Saint George      US     95.00           clear sky  37.10 -113.58   \n",
       "26       Teahupoo      PF     78.01          few clouds -17.83 -149.27   \n",
       "..            ...     ...       ...                 ...    ...     ...   \n",
       "552      Caranavi      BO     80.22     overcast clouds -15.82  -67.55   \n",
       "555        Grants      US     84.20           clear sky  35.15 -107.85   \n",
       "565         Lamar      US     82.99           clear sky  33.67  -95.58   \n",
       "570     Ambajogai      IN     91.42    scattered clouds  18.73   76.38   \n",
       "572        Ixtapa      MX     81.00     overcast clouds  20.70 -105.20   \n",
       "\n",
       "                        Hotel Name  \n",
       "7               Isles Sunset Lodge  \n",
       "10                     Gîte kajeon  \n",
       "22          Pousada dos Navegantes  \n",
       "23     Best Western Plus Abbey Inn  \n",
       "26                    Vanira Lodge  \n",
       "..                             ...  \n",
       "552                 Hotel Landivar  \n",
       "555             Motel 6 Grants, NM  \n",
       "565             Kings Inn Paris TX  \n",
       "570                 Hotel Krushnai  \n",
       "572  Container Inn Puerto Vallarta  \n",
       "\n",
       "[196 rows x 7 columns]"
      ]
     },
     "execution_count": 2,
     "metadata": {},
     "output_type": "execute_result"
    }
   ],
   "source": [
    "# Store the CSV you saved into a DataFrame.\n",
    "WeatherPy_vacation_df = pd.read_csv(\"weather_data/WeatherPy_vacation.csv\", index_col=0)\n",
    "WeatherPy_vacation_df"
   ]
  },
  {
   "cell_type": "code",
   "execution_count": 3,
   "metadata": {},
   "outputs": [
    {
     "data": {
      "text/html": [
       "<div>\n",
       "<style scoped>\n",
       "    .dataframe tbody tr th:only-of-type {\n",
       "        vertical-align: middle;\n",
       "    }\n",
       "\n",
       "    .dataframe tbody tr th {\n",
       "        vertical-align: top;\n",
       "    }\n",
       "\n",
       "    .dataframe thead th {\n",
       "        text-align: right;\n",
       "    }\n",
       "</style>\n",
       "<table border=\"1\" class=\"dataframe\">\n",
       "  <thead>\n",
       "    <tr style=\"text-align: right;\">\n",
       "      <th></th>\n",
       "      <th>City</th>\n",
       "      <th>Country</th>\n",
       "      <th>Max Temp</th>\n",
       "      <th>Current description</th>\n",
       "      <th>Lat</th>\n",
       "      <th>Lng</th>\n",
       "      <th>Hotel Name</th>\n",
       "    </tr>\n",
       "  </thead>\n",
       "  <tbody>\n",
       "    <tr>\n",
       "      <th>442</th>\n",
       "      <td>Vitoria</td>\n",
       "      <td>BR</td>\n",
       "      <td>78.8</td>\n",
       "      <td>few clouds</td>\n",
       "      <td>-20.32</td>\n",
       "      <td>-40.34</td>\n",
       "      <td>Hotel Prata</td>\n",
       "    </tr>\n",
       "  </tbody>\n",
       "</table>\n",
       "</div>"
      ],
      "text/plain": [
       "        City Country  Max Temp Current description    Lat    Lng   Hotel Name\n",
       "442  Vitoria      BR      78.8          few clouds -20.32 -40.34  Hotel Prata"
      ]
     },
     "execution_count": 3,
     "metadata": {},
     "output_type": "execute_result"
    }
   ],
   "source": [
    "Vitoria_df = WeatherPy_vacation_df.loc[(WeatherPy_vacation_df[\"City\"] == \"Vitoria\")]\n",
    "Vitoria_df"
   ]
  },
  {
   "cell_type": "code",
   "execution_count": 4,
   "metadata": {},
   "outputs": [
    {
     "data": {
      "text/html": [
       "<div>\n",
       "<style scoped>\n",
       "    .dataframe tbody tr th:only-of-type {\n",
       "        vertical-align: middle;\n",
       "    }\n",
       "\n",
       "    .dataframe tbody tr th {\n",
       "        vertical-align: top;\n",
       "    }\n",
       "\n",
       "    .dataframe thead th {\n",
       "        text-align: right;\n",
       "    }\n",
       "</style>\n",
       "<table border=\"1\" class=\"dataframe\">\n",
       "  <thead>\n",
       "    <tr style=\"text-align: right;\">\n",
       "      <th></th>\n",
       "      <th>City</th>\n",
       "      <th>Country</th>\n",
       "      <th>Max Temp</th>\n",
       "      <th>Current description</th>\n",
       "      <th>Lat</th>\n",
       "      <th>Lng</th>\n",
       "      <th>Hotel Name</th>\n",
       "    </tr>\n",
       "  </thead>\n",
       "  <tbody>\n",
       "    <tr>\n",
       "      <th>284</th>\n",
       "      <td>Vila Velha</td>\n",
       "      <td>BR</td>\n",
       "      <td>78.8</td>\n",
       "      <td>few clouds</td>\n",
       "      <td>-20.33</td>\n",
       "      <td>-40.29</td>\n",
       "      <td>Hotel Vitória Palace</td>\n",
       "    </tr>\n",
       "  </tbody>\n",
       "</table>\n",
       "</div>"
      ],
      "text/plain": [
       "           City Country  Max Temp Current description    Lat    Lng  \\\n",
       "284  Vila Velha      BR      78.8          few clouds -20.33 -40.29   \n",
       "\n",
       "               Hotel Name  \n",
       "284  Hotel Vitória Palace  "
      ]
     },
     "execution_count": 4,
     "metadata": {},
     "output_type": "execute_result"
    }
   ],
   "source": [
    "Vila_Velha_df = WeatherPy_vacation_df.loc[(WeatherPy_vacation_df[\"City\"] == \"Vila Velha\")]\n",
    "Vila_Velha_df"
   ]
  },
  {
   "cell_type": "code",
   "execution_count": 5,
   "metadata": {},
   "outputs": [
    {
     "data": {
      "text/html": [
       "<div>\n",
       "<style scoped>\n",
       "    .dataframe tbody tr th:only-of-type {\n",
       "        vertical-align: middle;\n",
       "    }\n",
       "\n",
       "    .dataframe tbody tr th {\n",
       "        vertical-align: top;\n",
       "    }\n",
       "\n",
       "    .dataframe thead th {\n",
       "        text-align: right;\n",
       "    }\n",
       "</style>\n",
       "<table border=\"1\" class=\"dataframe\">\n",
       "  <thead>\n",
       "    <tr style=\"text-align: right;\">\n",
       "      <th></th>\n",
       "      <th>City</th>\n",
       "      <th>Country</th>\n",
       "      <th>Max Temp</th>\n",
       "      <th>Current description</th>\n",
       "      <th>Lat</th>\n",
       "      <th>Lng</th>\n",
       "      <th>Hotel Name</th>\n",
       "    </tr>\n",
       "  </thead>\n",
       "  <tbody>\n",
       "    <tr>\n",
       "      <th>445</th>\n",
       "      <td>Cachoeiro De Itapemirim</td>\n",
       "      <td>BR</td>\n",
       "      <td>76.57</td>\n",
       "      <td>clear sky</td>\n",
       "      <td>-20.85</td>\n",
       "      <td>-41.11</td>\n",
       "      <td>Bristol Easy Hotel - Cachoeiro</td>\n",
       "    </tr>\n",
       "  </tbody>\n",
       "</table>\n",
       "</div>"
      ],
      "text/plain": [
       "                        City Country  Max Temp Current description    Lat  \\\n",
       "445  Cachoeiro De Itapemirim      BR     76.57           clear sky -20.85   \n",
       "\n",
       "       Lng                      Hotel Name  \n",
       "445 -41.11  Bristol Easy Hotel - Cachoeiro  "
      ]
     },
     "execution_count": 5,
     "metadata": {},
     "output_type": "execute_result"
    }
   ],
   "source": [
    "Cachoeiro_De_Itapemirim_df = WeatherPy_vacation_df.loc[(WeatherPy_vacation_df[\"City\"] == \"Cachoeiro De Itapemirim\")]\n",
    "Cachoeiro_De_Itapemirim_df"
   ]
  },
  {
   "cell_type": "code",
   "execution_count": 6,
   "metadata": {},
   "outputs": [
    {
     "data": {
      "text/html": [
       "<div>\n",
       "<style scoped>\n",
       "    .dataframe tbody tr th:only-of-type {\n",
       "        vertical-align: middle;\n",
       "    }\n",
       "\n",
       "    .dataframe tbody tr th {\n",
       "        vertical-align: top;\n",
       "    }\n",
       "\n",
       "    .dataframe thead th {\n",
       "        text-align: right;\n",
       "    }\n",
       "</style>\n",
       "<table border=\"1\" class=\"dataframe\">\n",
       "  <thead>\n",
       "    <tr style=\"text-align: right;\">\n",
       "      <th></th>\n",
       "      <th>City</th>\n",
       "      <th>Country</th>\n",
       "      <th>Max Temp</th>\n",
       "      <th>Current description</th>\n",
       "      <th>Lat</th>\n",
       "      <th>Lng</th>\n",
       "      <th>Hotel Name</th>\n",
       "    </tr>\n",
       "  </thead>\n",
       "  <tbody>\n",
       "    <tr>\n",
       "      <th>82</th>\n",
       "      <td>Arraial Do Cabo</td>\n",
       "      <td>BR</td>\n",
       "      <td>78.8</td>\n",
       "      <td>clear sky</td>\n",
       "      <td>-22.97</td>\n",
       "      <td>-42.03</td>\n",
       "      <td>Pousada Porto Praia</td>\n",
       "    </tr>\n",
       "  </tbody>\n",
       "</table>\n",
       "</div>"
      ],
      "text/plain": [
       "               City Country  Max Temp Current description    Lat    Lng  \\\n",
       "82  Arraial Do Cabo      BR      78.8           clear sky -22.97 -42.03   \n",
       "\n",
       "             Hotel Name  \n",
       "82  Pousada Porto Praia  "
      ]
     },
     "execution_count": 6,
     "metadata": {},
     "output_type": "execute_result"
    }
   ],
   "source": [
    "Arraial_Do_Cabo_df = WeatherPy_vacation_df.loc[(WeatherPy_vacation_df[\"City\"] == \"Arraial Do Cabo\")]\n",
    "Arraial_Do_Cabo_df"
   ]
  },
  {
   "cell_type": "code",
   "execution_count": 7,
   "metadata": {},
   "outputs": [],
   "source": [
    "# Configure gmaps to use your Google API key\n",
    "gmaps.configure(api_key=g_key)"
   ]
  },
  {
   "cell_type": "code",
   "execution_count": 8,
   "metadata": {},
   "outputs": [],
   "source": [
    "Vitoria_list = Vitoria_df.Lat.tolist()\n",
    "Vitroia_list = Vitoria_list.append(Vitoria_df.Lng.tolist()[0])\n",
    "\n",
    "VV_list = Vila_Velha_df.Lat.tolist()\n",
    "VV_list = VV_list.append(Vila_Velha_df.Lng.tolist()[0])\n",
    "\n",
    "\n",
    "CDI_list = Cachoeiro_De_Itapemirim_df.Lat.tolist()\n",
    "CDI_list = CDI_list.append(Cachoeiro_De_Itapemirim_df.Lng.tolist()[0])\n",
    "\n",
    "ADC_list = Arraial_Do_Cabo_df.Lat.tolist()\n",
    "ADC_list = ADC_list.append(Arraial_Do_Cabo_df.Lng.tolist()[0])"
   ]
  },
  {
   "cell_type": "code",
   "execution_count": 9,
   "metadata": {},
   "outputs": [
    {
     "data": {
      "application/vnd.jupyter.widget-view+json": {
       "model_id": "a4217f5da3e441078fc21b4ebd7eadef",
       "version_major": 2,
       "version_minor": 0
      },
      "text/plain": [
       "Figure(layout=FigureLayout(height='420px'))"
      ]
     },
     "metadata": {},
     "output_type": "display_data"
    }
   ],
   "source": [
    "# Latitude-longitude pairs\n",
    "Vitoria = (Vitoria_list[0], Vitoria_list[1])\n",
    "Vila_Velha = (-20.33, -40.29)\n",
    "Cachoeiro_De_Itapemirim = (-20.85, -41.11)\n",
    "Arraial_Do_Cabo = (-22.97, -42.03)\n",
    "\n",
    "fig = gmaps.figure()\n",
    "brazil = gmaps.directions_layer(Vitoria, Arraial_Do_Cabo, waypoints=[Vila_Velha, Cachoeiro_De_Itapemirim], travel_mode=\"DRIVING\")\n",
    "fig.add_layer(brazil)\n",
    "fig"
   ]
  },
  {
   "cell_type": "code",
   "execution_count": 10,
   "metadata": {},
   "outputs": [
    {
     "data": {
      "text/html": [
       "<div>\n",
       "<style scoped>\n",
       "    .dataframe tbody tr th:only-of-type {\n",
       "        vertical-align: middle;\n",
       "    }\n",
       "\n",
       "    .dataframe tbody tr th {\n",
       "        vertical-align: top;\n",
       "    }\n",
       "\n",
       "    .dataframe thead th {\n",
       "        text-align: right;\n",
       "    }\n",
       "</style>\n",
       "<table border=\"1\" class=\"dataframe\">\n",
       "  <thead>\n",
       "    <tr style=\"text-align: right;\">\n",
       "      <th></th>\n",
       "      <th>City</th>\n",
       "      <th>Country</th>\n",
       "      <th>Max Temp</th>\n",
       "      <th>Current description</th>\n",
       "      <th>Lat</th>\n",
       "      <th>Lng</th>\n",
       "      <th>Hotel Name</th>\n",
       "    </tr>\n",
       "  </thead>\n",
       "  <tbody>\n",
       "    <tr>\n",
       "      <th>442</th>\n",
       "      <td>Vitoria</td>\n",
       "      <td>BR</td>\n",
       "      <td>78.80</td>\n",
       "      <td>few clouds</td>\n",
       "      <td>-20.32</td>\n",
       "      <td>-40.34</td>\n",
       "      <td>Hotel Prata</td>\n",
       "    </tr>\n",
       "    <tr>\n",
       "      <th>284</th>\n",
       "      <td>Vila Velha</td>\n",
       "      <td>BR</td>\n",
       "      <td>78.80</td>\n",
       "      <td>few clouds</td>\n",
       "      <td>-20.33</td>\n",
       "      <td>-40.29</td>\n",
       "      <td>Hotel Vitória Palace</td>\n",
       "    </tr>\n",
       "    <tr>\n",
       "      <th>445</th>\n",
       "      <td>Cachoeiro De Itapemirim</td>\n",
       "      <td>BR</td>\n",
       "      <td>76.57</td>\n",
       "      <td>clear sky</td>\n",
       "      <td>-20.85</td>\n",
       "      <td>-41.11</td>\n",
       "      <td>Bristol Easy Hotel - Cachoeiro</td>\n",
       "    </tr>\n",
       "    <tr>\n",
       "      <th>82</th>\n",
       "      <td>Arraial Do Cabo</td>\n",
       "      <td>BR</td>\n",
       "      <td>78.80</td>\n",
       "      <td>clear sky</td>\n",
       "      <td>-22.97</td>\n",
       "      <td>-42.03</td>\n",
       "      <td>Pousada Porto Praia</td>\n",
       "    </tr>\n",
       "  </tbody>\n",
       "</table>\n",
       "</div>"
      ],
      "text/plain": [
       "                        City Country  Max Temp Current description    Lat  \\\n",
       "442                  Vitoria      BR     78.80          few clouds -20.32   \n",
       "284               Vila Velha      BR     78.80          few clouds -20.33   \n",
       "445  Cachoeiro De Itapemirim      BR     76.57           clear sky -20.85   \n",
       "82           Arraial Do Cabo      BR     78.80           clear sky -22.97   \n",
       "\n",
       "       Lng                      Hotel Name  \n",
       "442 -40.34                     Hotel Prata  \n",
       "284 -40.29            Hotel Vitória Palace  \n",
       "445 -41.11  Bristol Easy Hotel - Cachoeiro  \n",
       "82  -42.03             Pousada Porto Praia  "
      ]
     },
     "execution_count": 10,
     "metadata": {},
     "output_type": "execute_result"
    }
   ],
   "source": [
    "itinerary = [Vitoria_df, Vila_Velha_df, Cachoeiro_De_Itapemirim_df, Arraial_Do_Cabo_df]\n",
    "itinerary_df = pd.concat(itinerary)\n",
    "itinerary_df"
   ]
  },
  {
   "cell_type": "code",
   "execution_count": 11,
   "metadata": {},
   "outputs": [],
   "source": [
    "# Create a template to format info box\n",
    "info_box_template = \"\"\"\n",
    "<dl>\n",
    "<dt>Hotel Name</dt><dd>{Hotel Name}</dd>\n",
    "<dt>City</dt><dd>{City}</dd>\n",
    "<dt>Country</dt><dd>{Country}</dd>\n",
    "<dt>Current Weather</dt><dd>{Current description} and {Max Temp} °F</dd>\n",
    "</dl>\n",
    "\"\"\""
   ]
  },
  {
   "cell_type": "code",
   "execution_count": 12,
   "metadata": {},
   "outputs": [],
   "source": [
    "# Store the DataFrame Row.\n",
    "route_info = [info_box_template.format(**row) for index, row in itinerary_df.iterrows()]"
   ]
  },
  {
   "cell_type": "code",
   "execution_count": 15,
   "metadata": {},
   "outputs": [
    {
     "data": {
      "application/vnd.jupyter.widget-view+json": {
       "model_id": "5d4beb20fcd646cabfe81b647496ea45",
       "version_major": 2,
       "version_minor": 0
      },
      "text/plain": [
       "Figure(layout=FigureLayout(height='420px'))"
      ]
     },
     "metadata": {},
     "output_type": "display_data"
    }
   ],
   "source": [
    "# Add a heatmap of temperature for the vacation spots and a pop-up marker for each city.\n",
    "locations = itinerary_df[[\"Lat\", \"Lng\"]]\n",
    "max_temp = itinerary_df[\"Max Temp\"]\n",
    "fig = gmaps.figure(center=(30.0, 31.0), zoom_level=1.5)\n",
    "heat_layer = gmaps.heatmap_layer(locations, weights=max_temp,dissipating=False,\n",
    "             max_intensity=300, point_radius=4)\n",
    "marker_layer = gmaps.marker_layer(locations, info_box_content=route_info)\n",
    "fig.add_layer(heat_layer)\n",
    "fig.add_layer(marker_layer)\n",
    "\n",
    "# Call the figure to plot the data.\n",
    "fig"
   ]
  },
  {
   "cell_type": "code",
   "execution_count": null,
   "metadata": {},
   "outputs": [],
   "source": []
  }
 ],
 "metadata": {
  "kernelspec": {
   "display_name": "PythonData",
   "language": "python",
   "name": "pythondata"
  },
  "language_info": {
   "codemirror_mode": {
    "name": "ipython",
    "version": 3
   },
   "file_extension": ".py",
   "mimetype": "text/x-python",
   "name": "python",
   "nbconvert_exporter": "python",
   "pygments_lexer": "ipython3",
   "version": "3.7.7"
  }
 },
 "nbformat": 4,
 "nbformat_minor": 4
}
